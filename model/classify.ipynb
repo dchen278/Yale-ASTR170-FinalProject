{
 "cells": [
  {
   "cell_type": "markdown",
   "id": "3c1fc324-8c7b-4cd2-bcde-fb7584329577",
   "metadata": {},
   "source": [
    "### Import Packages"
   ]
  },
  {
   "cell_type": "code",
   "id": "5b839a9c-69e9-4126-92a9-c0ebb75c0b0f",
   "metadata": {
    "ExecuteTime": {
     "end_time": "2024-12-01T04:50:57.674457Z",
     "start_time": "2024-12-01T04:50:43.354192Z"
    }
   },
   "source": [
    "import warnings\n",
    "warnings.filterwarnings('ignore')\n",
    "\n",
    "import os\n",
    "import numpy as np\n",
    "import matplotlib.pyplot as plt\n",
    "\n",
    "from tqdm.notebook import tqdm\n",
    "from skimage.transform import resize\n",
    "from skimage.io import imread, imsave\n",
    "from tensorflow.keras.models import load_model\n",
    "from sklearn.model_selection import train_test_split\n",
    "\n",
    "from astroNN.datasets import load_galaxy10sdss\n",
    "from astroNN.datasets.galaxy10sdss import galaxy10cls_lookup, galaxy10_confusion"
   ],
   "outputs": [],
   "execution_count": 1
  },
  {
   "cell_type": "markdown",
   "id": "f3b01766-6fcc-4001-bc46-a82792d09b29",
   "metadata": {},
   "source": [
    "### Save 10 Test Images"
   ]
  },
  {
   "cell_type": "code",
   "id": "d09737af-4a06-474c-ac1c-85c488221dcb",
   "metadata": {
    "ExecuteTime": {
     "end_time": "2024-12-01T04:51:01.115763Z",
     "start_time": "2024-12-01T04:50:57.846699Z"
    }
   },
   "source": [
    "# Load Data\n",
    "pre_images, labels = load_galaxy10sdss()"
   ],
   "outputs": [
    {
     "name": "stdout",
     "output_type": "stream",
     "text": [
      "C:\\Users\\weigfan\\.astroNN\\datasets\\Galaxy10.h5 was found!\n"
     ]
    }
   ],
   "execution_count": 2
  },
  {
   "cell_type": "code",
   "id": "052d2ada-ea10-4b4a-8681-4adbae594b27",
   "metadata": {
    "ExecuteTime": {
     "end_time": "2024-12-01T04:51:01.675492Z",
     "start_time": "2024-12-01T04:51:01.583293Z"
    }
   },
   "source": [
    "# Train/Test Split\n",
    "train_idx, test_idx = train_test_split(np.arange(labels.shape[0]), test_size=0.1, random_state=20050531)\n",
    "train_images, train_labels = pre_images[train_idx], labels[train_idx]\n",
    "test_images, test_labels = pre_images[test_idx], labels[test_idx]"
   ],
   "outputs": [],
   "execution_count": 3
  },
  {
   "cell_type": "code",
   "execution_count": 46,
   "id": "7d5baaba-35e8-412e-a9ce-d1263ad60ff5",
   "metadata": {},
   "outputs": [
    {
     "data": {
      "application/vnd.jupyter.widget-view+json": {
       "model_id": "772a1183567d4619839cd936e802d0cf",
       "version_major": 2,
       "version_minor": 0
      },
      "text/plain": [
       "Save:   0%|          | 0/10 [00:00<?, ?it/s]"
      ]
     },
     "metadata": {},
     "output_type": "display_data"
    }
   ],
   "source": [
    "# Save image in high resolution\n",
    "save_dir = \"./images\"\n",
    "for idx in tqdm(range(test_images.shape[0]), total=10, desc=\"Save\"):\n",
    "    high_res_image = resize(test_images[idx], (500, 500), anti_aliasing=False, preserve_range=True).astype(np.uint8)\n",
    "    imsave(os.path.join(save_dir, f\"image_{idx}.png\"), high_res_image, check_contrast=False)\n",
    "    if idx == 10:\n",
    "        break"
   ]
  },
  {
   "cell_type": "markdown",
   "id": "52004575-0658-4af4-969c-af908170408e",
   "metadata": {},
   "source": [
    "### Classify"
   ]
  },
  {
   "cell_type": "code",
   "id": "5853f74f-a022-4904-8e4b-eb8c1678c32e",
   "metadata": {
    "ExecuteTime": {
     "end_time": "2024-12-01T04:51:51.380650Z",
     "start_time": "2024-12-01T04:51:51.367083Z"
    }
   },
   "source": [
    "# Load image\n",
    "img_path = \"./images/image_0.png\"\n",
    "img = imread(img_path)\n",
    "resized_img = resize(img, (69, 69), anti_aliasing=False, preserve_range=True).astype(np.uint8)\n",
    "resized_img = resized_img[:, :, :3]\n",
    "image = np.expand_dims(resized_img, axis=0).astype(np.float32) / 255.0"
   ],
   "outputs": [],
   "execution_count": 14
  },
  {
   "cell_type": "code",
   "id": "5bef5c68-8963-430b-bb83-47e7af4f1b45",
   "metadata": {
    "ExecuteTime": {
     "end_time": "2024-12-01T04:51:51.847605Z",
     "start_time": "2024-12-01T04:51:51.662474Z"
    }
   },
   "source": [
    "# Load model\n",
    "cnn_model = load_model(\"cnn_model.h5\")"
   ],
   "outputs": [],
   "execution_count": 15
  },
  {
   "cell_type": "code",
   "id": "e4bed283-d42d-4a0f-a469-00d7ca158c0e",
   "metadata": {
    "ExecuteTime": {
     "end_time": "2024-12-01T04:51:52.097505Z",
     "start_time": "2024-12-01T04:51:51.964265Z"
    }
   },
   "source": [
    "# Predict\n",
    "predicted_labels = cnn_model.predict(image)\n",
    "prediction_class = np.argmax(predicted_labels, axis=1)\n",
    "prediction_class"
   ],
   "outputs": [
    {
     "name": "stdout",
     "output_type": "stream",
     "text": [
      "1/1 [==============================] - 0s 76ms/step\n"
     ]
    },
    {
     "data": {
      "text/plain": [
       "array([8], dtype=int64)"
      ]
     },
     "execution_count": 16,
     "metadata": {},
     "output_type": "execute_result"
    }
   ],
   "execution_count": 16
  },
  {
   "cell_type": "code",
   "id": "515b8e25-569b-404f-909e-6b32f4f1d0ac",
   "metadata": {
    "ExecuteTime": {
     "end_time": "2024-12-01T04:52:03.601385Z",
     "start_time": "2024-12-01T04:52:03.576099Z"
    }
   },
   "source": [
    "# Lookup\n",
    "galaxy10cls_lookup(prediction_class[0])"
   ],
   "outputs": [
    {
     "data": {
      "text/plain": [
       "'Disk, Face-on, Medium Spiral'"
      ]
     },
     "execution_count": 20,
     "metadata": {},
     "output_type": "execute_result"
    }
   ],
   "execution_count": 20
  },
  {
   "cell_type": "code",
   "id": "5942aba4-794a-4892-99ca-a94c0a371d65",
   "metadata": {
    "ExecuteTime": {
     "end_time": "2024-12-01T04:51:53.404814Z",
     "start_time": "2024-12-01T04:51:53.393266Z"
    }
   },
   "source": [
    "# Test Labels\n",
    "test_labels[:10]"
   ],
   "outputs": [
    {
     "data": {
      "text/plain": [
       "array([8, 2, 8, 1, 1, 0, 1, 2, 1, 0], dtype=uint8)"
      ]
     },
     "execution_count": 18,
     "metadata": {},
     "output_type": "execute_result"
    }
   ],
   "execution_count": 18
  },
  {
   "metadata": {},
   "cell_type": "code",
   "outputs": [],
   "execution_count": null,
   "source": "",
   "id": "445d824188e75847"
  }
 ],
 "metadata": {
  "kernelspec": {
   "display_name": "astro",
   "language": "python",
   "name": "python3"
  },
  "language_info": {
   "codemirror_mode": {
    "name": "ipython",
    "version": 3
   },
   "file_extension": ".py",
   "mimetype": "text/x-python",
   "name": "python",
   "nbconvert_exporter": "python",
   "pygments_lexer": "ipython3",
   "version": "3.13.0"
  }
 },
 "nbformat": 4,
 "nbformat_minor": 5
}
